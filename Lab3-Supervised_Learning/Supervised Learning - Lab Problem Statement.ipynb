{
 "cells": [
  {
   "cell_type": "markdown",
   "id": "fcbd582c",
   "metadata": {
    "id": "fcbd582c"
   },
   "source": [
    "## Learning Outcomes\n",
    "- Exploratory data analysis & preparing the data for model building. \n",
    "- Machine Learning - Supervised Learning Classification\n",
    "  - Logistic Regression\n",
    "  - Naive bayes Classifier\n",
    "  - KNN Classifier\n",
    "  - Decision Tree Classifier\n",
    "  - Random Forest Classifier\n",
    "  - Ensemble methods\n",
    "- Training and making predictions using different classification models.\n",
    "- Model evaluation"
   ]
  },
  {
   "cell_type": "markdown",
   "id": "f2e961f9",
   "metadata": {
    "id": "f2e961f9"
   },
   "source": [
    "## Objective: \n",
    "- The Classification goal is to predict “heart disease” in a person with regards to different factors given. \n",
    "\n",
    "## Context:\n",
    "- Heart disease is one of the leading causes of death for people of most races in the US. At least 1 of 3 key risk factors for heart disease: high blood pressure, high cholesterol, and smoking. \n",
    "- Detecting and preventing the factors that have the greatest impact on heart disease is very important in healthcare. Machine learning methods may detect \"patterns\" from the data and can predict whether a patient is suffering from any heart disease or not..\n",
    "\n",
    "## Dataset Information\n",
    "\n",
    "#### Source: https://www.kaggle.com/datasets/kamilpytlak/personal-key-indicators-of-heart-disease?datasetId=1936563&sortBy=voteCount\n",
    "Originally, the dataset come from the CDC and is a major part of the Behavioral Risk Factor Surveillance System (BRFSS), which conducts annual telephone surveys to gather data on the health status of U.S. residents. \n",
    "\n",
    "This dataset consists of eighteen columns\n",
    "- HeartDisease: Respondents that have ever reported having coronary heart disease (CHD) or myocardial infarction (MI)\n",
    "- BMI: Body Mass Index (BMI)\n",
    "- Smoking: smoked at least 100 cigarettes in your entire life\n",
    "- AlcoholDrinking: Heavy drinkers (adult men having more than 14 drinks per week and adult women having more than 7 drinks per week\n",
    "- Stroke:Ever had a stroke?\n",
    "- PhysicalHealth: physical health, which includes physical illness and injury\n",
    "- MentalHealth: for how many days during the past 30 days was your mental health not good?\n",
    "- DiffWalking: Do you have serious difficulty walking or climbing stairs?\n",
    "- Sex: male or female?\n",
    "- AgeCategory: Fourteen-level age category\n",
    "- Race: Imputed race/ethnicity value\n",
    "- Diabetic: diabetes?\n",
    "- PhysicalActivity: Adults who reported doing physical activity or exercise during the past 30 days other than their regular job\n",
    "- GenHealth: Would you say that in general your health is good, fine or excellent?\n",
    "- SleepTime: On average, how many hours of sleep do you get in a 24-hour period?\n",
    "- Asthma: you had asthma?\n",
    "- KidneyDisease: Not including kidney stones, bladder infection or incontinence, were you ever told you had kidney disease?\n",
    "- SkinCancer: Ever had skin cancer?"
   ]
  },
  {
   "cell_type": "markdown",
   "id": "f8617014",
   "metadata": {
    "id": "f8617014"
   },
   "source": [
    "### 1. Importing Libraries"
   ]
  },
  {
   "cell_type": "code",
   "execution_count": 3,
   "id": "c7172d3b",
   "metadata": {
    "id": "c7172d3b"
   },
   "outputs": [],
   "source": [
    "import numpy as np\n",
    "import pandas as pd \n",
    "import matplotlib.pyplot as plt \n",
    "import seaborn as sns \n",
    "\n",
    "import sklearn\n",
    "\n",
    "from sklearn.model_selection import train_test_split \n",
    "from sklearn.preprocessing import StandardScaler\n",
    "from sklearn.linear_model import LogisticRegression\n",
    "from sklearn.metrics import accuracy_score, confusion_matrix\n",
    "from sklearn.preprocessing import LabelEncoder\n",
    "\n",
    "import warnings\n",
    "warnings.filterwarnings('ignore')\n",
    "\n",
    "from sklearn.naive_bayes import GaussianNB\n",
    "from sklearn.neighbors import KNeighborsClassifier\n",
    "\n",
    "from sklearn.tree import DecisionTreeClassifier\n",
    "\n",
    "from sklearn.ensemble import RandomForestClassifier\n",
    "from sklearn.ensemble import AdaBoostClassifier, GradientBoostingClassifier\n",
    "\n",
    "from sklearn.ensemble import StackingClassifier"
   ]
  },
  {
   "cell_type": "markdown",
   "id": "8fe1a778",
   "metadata": {
    "id": "8fe1a778"
   },
   "source": [
    "### 2. Load the dataset and display a sample of five rows of the data frame."
   ]
  },
  {
   "cell_type": "code",
   "execution_count": 4,
   "id": "70984f5f",
   "metadata": {
    "id": "70984f5f"
   },
   "outputs": [
    {
     "data": {
      "text/html": [
       "<div>\n",
       "<style scoped>\n",
       "    .dataframe tbody tr th:only-of-type {\n",
       "        vertical-align: middle;\n",
       "    }\n",
       "\n",
       "    .dataframe tbody tr th {\n",
       "        vertical-align: top;\n",
       "    }\n",
       "\n",
       "    .dataframe thead th {\n",
       "        text-align: right;\n",
       "    }\n",
       "</style>\n",
       "<table border=\"1\" class=\"dataframe\">\n",
       "  <thead>\n",
       "    <tr style=\"text-align: right;\">\n",
       "      <th></th>\n",
       "      <th>HeartDisease</th>\n",
       "      <th>BMI</th>\n",
       "      <th>Smoking</th>\n",
       "      <th>AlcoholDrinking</th>\n",
       "      <th>Stroke</th>\n",
       "      <th>PhysicalHealth</th>\n",
       "      <th>MentalHealth</th>\n",
       "      <th>DiffWalking</th>\n",
       "      <th>Sex</th>\n",
       "      <th>AgeCategory</th>\n",
       "      <th>Race</th>\n",
       "      <th>Diabetic</th>\n",
       "      <th>PhysicalActivity</th>\n",
       "      <th>GenHealth</th>\n",
       "      <th>SleepTime</th>\n",
       "      <th>Asthma</th>\n",
       "      <th>KidneyDisease</th>\n",
       "      <th>SkinCancer</th>\n",
       "    </tr>\n",
       "  </thead>\n",
       "  <tbody>\n",
       "    <tr>\n",
       "      <th>259685</th>\n",
       "      <td>No</td>\n",
       "      <td>36.05</td>\n",
       "      <td>No</td>\n",
       "      <td>No</td>\n",
       "      <td>No</td>\n",
       "      <td>0.0</td>\n",
       "      <td>3.0</td>\n",
       "      <td>Yes</td>\n",
       "      <td>Female</td>\n",
       "      <td>55-59</td>\n",
       "      <td>White</td>\n",
       "      <td>Yes</td>\n",
       "      <td>Yes</td>\n",
       "      <td>Fair</td>\n",
       "      <td>5.0</td>\n",
       "      <td>Yes</td>\n",
       "      <td>No</td>\n",
       "      <td>No</td>\n",
       "    </tr>\n",
       "    <tr>\n",
       "      <th>96414</th>\n",
       "      <td>No</td>\n",
       "      <td>30.67</td>\n",
       "      <td>Yes</td>\n",
       "      <td>No</td>\n",
       "      <td>No</td>\n",
       "      <td>0.0</td>\n",
       "      <td>0.0</td>\n",
       "      <td>No</td>\n",
       "      <td>Male</td>\n",
       "      <td>35-39</td>\n",
       "      <td>White</td>\n",
       "      <td>No</td>\n",
       "      <td>Yes</td>\n",
       "      <td>Good</td>\n",
       "      <td>8.0</td>\n",
       "      <td>No</td>\n",
       "      <td>No</td>\n",
       "      <td>No</td>\n",
       "    </tr>\n",
       "    <tr>\n",
       "      <th>203621</th>\n",
       "      <td>No</td>\n",
       "      <td>21.48</td>\n",
       "      <td>No</td>\n",
       "      <td>No</td>\n",
       "      <td>No</td>\n",
       "      <td>1.0</td>\n",
       "      <td>0.0</td>\n",
       "      <td>No</td>\n",
       "      <td>Female</td>\n",
       "      <td>65-69</td>\n",
       "      <td>White</td>\n",
       "      <td>No</td>\n",
       "      <td>Yes</td>\n",
       "      <td>Very good</td>\n",
       "      <td>7.0</td>\n",
       "      <td>Yes</td>\n",
       "      <td>No</td>\n",
       "      <td>No</td>\n",
       "    </tr>\n",
       "    <tr>\n",
       "      <th>185100</th>\n",
       "      <td>No</td>\n",
       "      <td>44.08</td>\n",
       "      <td>No</td>\n",
       "      <td>No</td>\n",
       "      <td>No</td>\n",
       "      <td>0.0</td>\n",
       "      <td>0.0</td>\n",
       "      <td>No</td>\n",
       "      <td>Male</td>\n",
       "      <td>55-59</td>\n",
       "      <td>White</td>\n",
       "      <td>Yes</td>\n",
       "      <td>Yes</td>\n",
       "      <td>Fair</td>\n",
       "      <td>7.0</td>\n",
       "      <td>No</td>\n",
       "      <td>No</td>\n",
       "      <td>No</td>\n",
       "    </tr>\n",
       "    <tr>\n",
       "      <th>5146</th>\n",
       "      <td>No</td>\n",
       "      <td>28.25</td>\n",
       "      <td>No</td>\n",
       "      <td>No</td>\n",
       "      <td>No</td>\n",
       "      <td>0.0</td>\n",
       "      <td>7.0</td>\n",
       "      <td>No</td>\n",
       "      <td>Female</td>\n",
       "      <td>18-24</td>\n",
       "      <td>Black</td>\n",
       "      <td>No</td>\n",
       "      <td>Yes</td>\n",
       "      <td>Excellent</td>\n",
       "      <td>8.0</td>\n",
       "      <td>No</td>\n",
       "      <td>No</td>\n",
       "      <td>No</td>\n",
       "    </tr>\n",
       "  </tbody>\n",
       "</table>\n",
       "</div>"
      ],
      "text/plain": [
       "       HeartDisease    BMI Smoking AlcoholDrinking Stroke  PhysicalHealth  \\\n",
       "259685           No  36.05      No              No     No             0.0   \n",
       "96414            No  30.67     Yes              No     No             0.0   \n",
       "203621           No  21.48      No              No     No             1.0   \n",
       "185100           No  44.08      No              No     No             0.0   \n",
       "5146             No  28.25      No              No     No             0.0   \n",
       "\n",
       "        MentalHealth DiffWalking     Sex AgeCategory   Race Diabetic  \\\n",
       "259685           3.0         Yes  Female       55-59  White      Yes   \n",
       "96414            0.0          No    Male       35-39  White       No   \n",
       "203621           0.0          No  Female       65-69  White       No   \n",
       "185100           0.0          No    Male       55-59  White      Yes   \n",
       "5146             7.0          No  Female       18-24  Black       No   \n",
       "\n",
       "       PhysicalActivity  GenHealth  SleepTime Asthma KidneyDisease SkinCancer  \n",
       "259685              Yes       Fair        5.0    Yes            No         No  \n",
       "96414               Yes       Good        8.0     No            No         No  \n",
       "203621              Yes  Very good        7.0    Yes            No         No  \n",
       "185100              Yes       Fair        7.0     No            No         No  \n",
       "5146                Yes  Excellent        8.0     No            No         No  "
      ]
     },
     "execution_count": 4,
     "metadata": {},
     "output_type": "execute_result"
    }
   ],
   "source": [
    "# loading the dataset\n",
    "\n",
    "try:\n",
    "    df = pd.read_csv('heart_2020_cleaned.csv')\n",
    "except FileNotFoundError: # if file path is invalid of the file does not exist\n",
    "    print(\"File not found.\")\n",
    "except pd.errors.EmptyDataError: # if the file is empty or has no data\n",
    "    print(\"No data\")\n",
    "except pd.errors.ParserError: # if the file has malformed or invalid data that cannot be parsed.\n",
    "    print(\"Parse error\")\n",
    "except UnicodeDecodeError: # if the file has a different encoding than the default or specified one.\n",
    "    print(\"Encoding error\")\n",
    "except Exception: # handling other exceptions\n",
    "    print(\"Error encountered! Please review your code\")\n",
    "\n",
    "# reading the data\n",
    "df.sample(5)"
   ]
  },
  {
   "cell_type": "markdown",
   "id": "eda763be",
   "metadata": {
    "id": "eda763be"
   },
   "source": [
    "### 3. Check the shape of the data (number of rows and columns). Check the general information about the dataframe using the .info() method."
   ]
  },
  {
   "cell_type": "code",
   "execution_count": 5,
   "id": "c246297d",
   "metadata": {
    "id": "c246297d"
   },
   "outputs": [
    {
     "name": "stdout",
     "output_type": "stream",
     "text": [
      "Shape of the Data : (319795, 18)\n",
      "Number of Rows in the Data : 319795\n",
      "Number of Columns in the Data : 18 \n",
      "\n",
      "General information about the dataframe :\n",
      "\n",
      "<class 'pandas.core.frame.DataFrame'>\n",
      "RangeIndex: 319795 entries, 0 to 319794\n",
      "Data columns (total 18 columns):\n",
      " #   Column            Non-Null Count   Dtype  \n",
      "---  ------            --------------   -----  \n",
      " 0   HeartDisease      319795 non-null  object \n",
      " 1   BMI               319795 non-null  float64\n",
      " 2   Smoking           319795 non-null  object \n",
      " 3   AlcoholDrinking   319795 non-null  object \n",
      " 4   Stroke            319795 non-null  object \n",
      " 5   PhysicalHealth    319795 non-null  float64\n",
      " 6   MentalHealth      319795 non-null  float64\n",
      " 7   DiffWalking       319795 non-null  object \n",
      " 8   Sex               319795 non-null  object \n",
      " 9   AgeCategory       319795 non-null  object \n",
      " 10  Race              319795 non-null  object \n",
      " 11  Diabetic          319795 non-null  object \n",
      " 12  PhysicalActivity  319795 non-null  object \n",
      " 13  GenHealth         319795 non-null  object \n",
      " 14  SleepTime         319795 non-null  float64\n",
      " 15  Asthma            319795 non-null  object \n",
      " 16  KidneyDisease     319795 non-null  object \n",
      " 17  SkinCancer        319795 non-null  object \n",
      "dtypes: float64(4), object(14)\n",
      "memory usage: 43.9+ MB\n"
     ]
    }
   ],
   "source": [
    "# shape of the data\n",
    "print('Shape of the Data :', df.shape)\n",
    "print('Number of Rows in the Data :', df.shape[0])\n",
    "print('Number of Columns in the Data :', df.shape[1],'\\n')\n",
    "\n",
    "# general information about the dataset\n",
    "print('General information about the dataframe :\\n')\n",
    "df.info()"
   ]
  },
  {
   "cell_type": "markdown",
   "id": "c76ff438",
   "metadata": {},
   "source": [
    "- The dataframe has 18 columns.\n",
    "- The columns fall under two datatypes : float and object\n",
    "- Each column has 319795 records\n",
    "- There are no null values in the dataframe"
   ]
  },
  {
   "cell_type": "markdown",
   "id": "b8470476",
   "metadata": {
    "id": "b8470476"
   },
   "source": [
    "### 4. Check the statistical summary of the dataset and write your inferences."
   ]
  },
  {
   "cell_type": "code",
   "execution_count": 6,
   "id": "097530b2",
   "metadata": {
    "id": "b28786f2"
   },
   "outputs": [
    {
     "name": "stdout",
     "output_type": "stream",
     "text": [
      "Statistical summary of the numerical columns :\n",
      "\n"
     ]
    },
    {
     "data": {
      "text/html": [
       "<div>\n",
       "<style scoped>\n",
       "    .dataframe tbody tr th:only-of-type {\n",
       "        vertical-align: middle;\n",
       "    }\n",
       "\n",
       "    .dataframe tbody tr th {\n",
       "        vertical-align: top;\n",
       "    }\n",
       "\n",
       "    .dataframe thead th {\n",
       "        text-align: right;\n",
       "    }\n",
       "</style>\n",
       "<table border=\"1\" class=\"dataframe\">\n",
       "  <thead>\n",
       "    <tr style=\"text-align: right;\">\n",
       "      <th></th>\n",
       "      <th>count</th>\n",
       "      <th>mean</th>\n",
       "      <th>std</th>\n",
       "      <th>min</th>\n",
       "      <th>25%</th>\n",
       "      <th>50%</th>\n",
       "      <th>75%</th>\n",
       "      <th>max</th>\n",
       "    </tr>\n",
       "  </thead>\n",
       "  <tbody>\n",
       "    <tr>\n",
       "      <th>BMI</th>\n",
       "      <td>319795.0</td>\n",
       "      <td>28.325399</td>\n",
       "      <td>6.356100</td>\n",
       "      <td>12.02</td>\n",
       "      <td>24.03</td>\n",
       "      <td>27.34</td>\n",
       "      <td>31.42</td>\n",
       "      <td>94.85</td>\n",
       "    </tr>\n",
       "    <tr>\n",
       "      <th>PhysicalHealth</th>\n",
       "      <td>319795.0</td>\n",
       "      <td>3.371710</td>\n",
       "      <td>7.950850</td>\n",
       "      <td>0.00</td>\n",
       "      <td>0.00</td>\n",
       "      <td>0.00</td>\n",
       "      <td>2.00</td>\n",
       "      <td>30.00</td>\n",
       "    </tr>\n",
       "    <tr>\n",
       "      <th>MentalHealth</th>\n",
       "      <td>319795.0</td>\n",
       "      <td>3.898366</td>\n",
       "      <td>7.955235</td>\n",
       "      <td>0.00</td>\n",
       "      <td>0.00</td>\n",
       "      <td>0.00</td>\n",
       "      <td>3.00</td>\n",
       "      <td>30.00</td>\n",
       "    </tr>\n",
       "    <tr>\n",
       "      <th>SleepTime</th>\n",
       "      <td>319795.0</td>\n",
       "      <td>7.097075</td>\n",
       "      <td>1.436007</td>\n",
       "      <td>1.00</td>\n",
       "      <td>6.00</td>\n",
       "      <td>7.00</td>\n",
       "      <td>8.00</td>\n",
       "      <td>24.00</td>\n",
       "    </tr>\n",
       "  </tbody>\n",
       "</table>\n",
       "</div>"
      ],
      "text/plain": [
       "                   count       mean       std    min    25%    50%    75%  \\\n",
       "BMI             319795.0  28.325399  6.356100  12.02  24.03  27.34  31.42   \n",
       "PhysicalHealth  319795.0   3.371710  7.950850   0.00   0.00   0.00   2.00   \n",
       "MentalHealth    319795.0   3.898366  7.955235   0.00   0.00   0.00   3.00   \n",
       "SleepTime       319795.0   7.097075  1.436007   1.00   6.00   7.00   8.00   \n",
       "\n",
       "                  max  \n",
       "BMI             94.85  \n",
       "PhysicalHealth  30.00  \n",
       "MentalHealth    30.00  \n",
       "SleepTime       24.00  "
      ]
     },
     "execution_count": 6,
     "metadata": {},
     "output_type": "execute_result"
    }
   ],
   "source": [
    "# statistical summary of the numerical columns\n",
    "print('Statistical summary of the numerical columns :\\n')\n",
    "df.describe(include='number').T"
   ]
  },
  {
   "cell_type": "markdown",
   "id": "985a7038",
   "metadata": {},
   "source": [
    "### Inferences:\n",
    "#### BMI, PhysicalHealth, MentalHealth, SleepTime:\n",
    "The spread in the data for these numerical columns varies:\n",
    "- BMI: The data shows a relatively wide spread, ranging from 12.02 to 94.85, indicating variability in body mass index among respondents.\n",
    "- PhysicalHealth and MentalHealth: Most respondents report values near 0, suggesting that the majority of individuals in the dataset have good physical and mental health. However, there is a significant standard deviation, indicating some variability in reported health status.\n",
    "- SleepTime: The majority of respondents report sleeping between 6 and 8 hours per day, with some variability around this range.\n",
    "\n",
    "#### Outliers:\n",
    "- Outliers may be present in the BMI column, as indicated by the maximum value of 94.85. These outliers could represent extreme cases of obesity.\n",
    "- Outliers may also be present in the PhysicalHealth and MentalHealth columns, with values greater than the 75th percentile potentially indicating poor health status."
   ]
  },
  {
   "cell_type": "code",
   "execution_count": 7,
   "id": "b28786f2",
   "metadata": {
    "id": "b28786f2"
   },
   "outputs": [
    {
     "name": "stdout",
     "output_type": "stream",
     "text": [
      "Statistical summary of the categorical columns :\n"
     ]
    },
    {
     "data": {
      "text/html": [
       "<div>\n",
       "<style scoped>\n",
       "    .dataframe tbody tr th:only-of-type {\n",
       "        vertical-align: middle;\n",
       "    }\n",
       "\n",
       "    .dataframe tbody tr th {\n",
       "        vertical-align: top;\n",
       "    }\n",
       "\n",
       "    .dataframe thead th {\n",
       "        text-align: right;\n",
       "    }\n",
       "</style>\n",
       "<table border=\"1\" class=\"dataframe\">\n",
       "  <thead>\n",
       "    <tr style=\"text-align: right;\">\n",
       "      <th></th>\n",
       "      <th>count</th>\n",
       "      <th>unique</th>\n",
       "      <th>top</th>\n",
       "      <th>freq</th>\n",
       "    </tr>\n",
       "  </thead>\n",
       "  <tbody>\n",
       "    <tr>\n",
       "      <th>HeartDisease</th>\n",
       "      <td>319795</td>\n",
       "      <td>2</td>\n",
       "      <td>No</td>\n",
       "      <td>292422</td>\n",
       "    </tr>\n",
       "    <tr>\n",
       "      <th>Smoking</th>\n",
       "      <td>319795</td>\n",
       "      <td>2</td>\n",
       "      <td>No</td>\n",
       "      <td>187887</td>\n",
       "    </tr>\n",
       "    <tr>\n",
       "      <th>AlcoholDrinking</th>\n",
       "      <td>319795</td>\n",
       "      <td>2</td>\n",
       "      <td>No</td>\n",
       "      <td>298018</td>\n",
       "    </tr>\n",
       "    <tr>\n",
       "      <th>Stroke</th>\n",
       "      <td>319795</td>\n",
       "      <td>2</td>\n",
       "      <td>No</td>\n",
       "      <td>307726</td>\n",
       "    </tr>\n",
       "    <tr>\n",
       "      <th>DiffWalking</th>\n",
       "      <td>319795</td>\n",
       "      <td>2</td>\n",
       "      <td>No</td>\n",
       "      <td>275385</td>\n",
       "    </tr>\n",
       "    <tr>\n",
       "      <th>Sex</th>\n",
       "      <td>319795</td>\n",
       "      <td>2</td>\n",
       "      <td>Female</td>\n",
       "      <td>167805</td>\n",
       "    </tr>\n",
       "    <tr>\n",
       "      <th>AgeCategory</th>\n",
       "      <td>319795</td>\n",
       "      <td>13</td>\n",
       "      <td>65-69</td>\n",
       "      <td>34151</td>\n",
       "    </tr>\n",
       "    <tr>\n",
       "      <th>Race</th>\n",
       "      <td>319795</td>\n",
       "      <td>6</td>\n",
       "      <td>White</td>\n",
       "      <td>245212</td>\n",
       "    </tr>\n",
       "    <tr>\n",
       "      <th>Diabetic</th>\n",
       "      <td>319795</td>\n",
       "      <td>4</td>\n",
       "      <td>No</td>\n",
       "      <td>269653</td>\n",
       "    </tr>\n",
       "    <tr>\n",
       "      <th>PhysicalActivity</th>\n",
       "      <td>319795</td>\n",
       "      <td>2</td>\n",
       "      <td>Yes</td>\n",
       "      <td>247957</td>\n",
       "    </tr>\n",
       "    <tr>\n",
       "      <th>GenHealth</th>\n",
       "      <td>319795</td>\n",
       "      <td>5</td>\n",
       "      <td>Very good</td>\n",
       "      <td>113858</td>\n",
       "    </tr>\n",
       "    <tr>\n",
       "      <th>Asthma</th>\n",
       "      <td>319795</td>\n",
       "      <td>2</td>\n",
       "      <td>No</td>\n",
       "      <td>276923</td>\n",
       "    </tr>\n",
       "    <tr>\n",
       "      <th>KidneyDisease</th>\n",
       "      <td>319795</td>\n",
       "      <td>2</td>\n",
       "      <td>No</td>\n",
       "      <td>308016</td>\n",
       "    </tr>\n",
       "    <tr>\n",
       "      <th>SkinCancer</th>\n",
       "      <td>319795</td>\n",
       "      <td>2</td>\n",
       "      <td>No</td>\n",
       "      <td>289976</td>\n",
       "    </tr>\n",
       "  </tbody>\n",
       "</table>\n",
       "</div>"
      ],
      "text/plain": [
       "                   count unique        top    freq\n",
       "HeartDisease      319795      2         No  292422\n",
       "Smoking           319795      2         No  187887\n",
       "AlcoholDrinking   319795      2         No  298018\n",
       "Stroke            319795      2         No  307726\n",
       "DiffWalking       319795      2         No  275385\n",
       "Sex               319795      2     Female  167805\n",
       "AgeCategory       319795     13      65-69   34151\n",
       "Race              319795      6      White  245212\n",
       "Diabetic          319795      4         No  269653\n",
       "PhysicalActivity  319795      2        Yes  247957\n",
       "GenHealth         319795      5  Very good  113858\n",
       "Asthma            319795      2         No  276923\n",
       "KidneyDisease     319795      2         No  308016\n",
       "SkinCancer        319795      2         No  289976"
      ]
     },
     "execution_count": 7,
     "metadata": {},
     "output_type": "execute_result"
    }
   ],
   "source": [
    "# statistical summary of the categorical columns\n",
    "print('Statistical summary of the categorical columns :')\n",
    "df.describe(include='object').T"
   ]
  },
  {
   "cell_type": "markdown",
   "id": "cf536528",
   "metadata": {},
   "source": [
    "### Inferences \n",
    "\n",
    "#### HeartDisease, Smoking, AlcoholDrinking, Stroke, DiffWalking, PhysicalActivity, Asthma, KidneyDisease, SkinCancer:\n",
    "The spread in the data for these categorical columns is limited to the unique values present in each column.\n",
    "Inferences:\n",
    "- The majority of respondents do not report heart disease, smoking, alcohol consumption, stroke, difficulty walking, asthma, kidney disease, or skin cancer, as indicated by the frequency of \"No\" responses in each respective column.\n",
    "\n",
    "#### Outliers:\n",
    "- Outliers are not applicable to categorical data in the same sense as numerical data. \n",
    "- However, rare or unexpected responses may be considered as anomalies or irregularities in the dataset. \n",
    "- For example, if there are very few respondents who report \"Yes\" for heart disease in a population where heart disease is prevalent, this could be considered an outlier in the context of the dataset."
   ]
  },
  {
   "cell_type": "markdown",
   "id": "25d21a69",
   "metadata": {
    "id": "25d21a69"
   },
   "source": [
    "### 5. Check the percentage of missing values in each column of the data frame. Drop the missing values if there are any."
   ]
  },
  {
   "cell_type": "code",
   "execution_count": 8,
   "id": "20d33888",
   "metadata": {
    "id": "20d33888"
   },
   "outputs": [
    {
     "name": "stdout",
     "output_type": "stream",
     "text": [
      "Percentage of missing values in each column of the data frame :\n",
      "\n"
     ]
    },
    {
     "data": {
      "text/plain": [
       "HeartDisease        0.0\n",
       "BMI                 0.0\n",
       "Smoking             0.0\n",
       "AlcoholDrinking     0.0\n",
       "Stroke              0.0\n",
       "PhysicalHealth      0.0\n",
       "MentalHealth        0.0\n",
       "DiffWalking         0.0\n",
       "Sex                 0.0\n",
       "AgeCategory         0.0\n",
       "Race                0.0\n",
       "Diabetic            0.0\n",
       "PhysicalActivity    0.0\n",
       "GenHealth           0.0\n",
       "SleepTime           0.0\n",
       "Asthma              0.0\n",
       "KidneyDisease       0.0\n",
       "SkinCancer          0.0\n",
       "dtype: float64"
      ]
     },
     "execution_count": 8,
     "metadata": {},
     "output_type": "execute_result"
    }
   ],
   "source": [
    "print('Percentage of missing values in each column of the data frame :\\n')\n",
    "df.isnull().sum()/len(df)*100 # number of null values divided by total no. of rows "
   ]
  },
  {
   "cell_type": "markdown",
   "id": "c867c3cb",
   "metadata": {},
   "source": [
    "- There are no missing values in the dataframe"
   ]
  },
  {
   "cell_type": "markdown",
   "id": "030b4016",
   "metadata": {
    "id": "030b4016"
   },
   "source": [
    "### 6. Check if there are any duplicate rows. If any drop them and check the shape of the dataframe after dropping duplicates."
   ]
  },
  {
   "cell_type": "code",
   "execution_count": 9,
   "id": "d3627916",
   "metadata": {
    "id": "11f42ddc"
   },
   "outputs": [
    {
     "name": "stdout",
     "output_type": "stream",
     "text": [
      "The shape of the dataframe before dropping duplicates : (319795, 18)\n",
      "Duplicate Rows : 18078\n"
     ]
    }
   ],
   "source": [
    "print('The shape of the dataframe before dropping duplicates :', df.shape)\n",
    "print('Duplicate Rows :', len(df[df.duplicated()]))"
   ]
  },
  {
   "cell_type": "code",
   "execution_count": 10,
   "id": "4eeae41d",
   "metadata": {
    "id": "11f42ddc"
   },
   "outputs": [],
   "source": [
    "# dropping the duplicated records\n",
    "df.drop_duplicates(inplace=True)"
   ]
  },
  {
   "cell_type": "code",
   "execution_count": 11,
   "id": "11f42ddc",
   "metadata": {
    "id": "11f42ddc"
   },
   "outputs": [
    {
     "name": "stdout",
     "output_type": "stream",
     "text": [
      "Duplicate Rows after dropping: 0\n",
      "The shape of the dataframe after dropping duplicates : (301717, 18)\n"
     ]
    }
   ],
   "source": [
    "print('Duplicate Rows after dropping:', len(df[df.duplicated()]))\n",
    "print('The shape of the dataframe after dropping duplicates :', df.shape)"
   ]
  },
  {
   "cell_type": "markdown",
   "id": "817d0f41",
   "metadata": {
    "id": "817d0f41"
   },
   "source": [
    "### 7. Check the distribution of the target variable (i.e. 'HeartDisease') and write your observations."
   ]
  },
  {
   "cell_type": "code",
   "execution_count": 12,
   "id": "62d1e2b3",
   "metadata": {
    "id": "62d1e2b3"
   },
   "outputs": [
    {
     "data": {
      "text/plain": [
       "Text(0.5, 1.0, 'Distribution of the target variable, HeartDisease')"
      ]
     },
     "execution_count": 12,
     "metadata": {},
     "output_type": "execute_result"
    },
    {
     "data": {
      "image/png": "[encoded data removed]",
      "text/plain": [
       "<Figure size 640x480 with 1 Axes>"
      ]
     },
     "metadata": {},
     "output_type": "display_data"
    }
   ],
   "source": [
    "df['HeartDisease'].value_counts().plot(kind='pie', autopct='%1.2f%%')\n",
    "plt.title('Distribution of the target variable, HeartDisease')"
   ]
  },
  {
   "cell_type": "markdown",
   "id": "1cb332f1",
   "metadata": {},
   "source": [
    "### Observations\n",
    "- Approximately 90.96% of the observed population does not have heart disease.\n",
    "-  About 9.04% of cases have been diagnosed with heart disease.\n",
    "- The majority of the population falls into the ‘No’ category, indicating a low prevalence of heart disease in the dataset.\n",
    "- The distribution is highly imbalanced as it is skewed to the 'No' Category"
   ]
  },
  {
   "cell_type": "markdown",
   "id": "1cd33e88",
   "metadata": {
    "id": "1cd33e88"
   },
   "source": [
    "### 8. Visualize the distribution of the target column 'Heart disease' with respect to various categorical features and write your observations."
   ]
  },
  {
   "cell_type": "code",
   "execution_count": 13,
   "id": "888be5c5",
   "metadata": {
    "id": "888be5c5"
   },
   "outputs": [
    {
     "name": "stdout",
     "output_type": "stream",
     "text": [
      "List of Categorical Features : ['HeartDisease', 'Smoking', 'AlcoholDrinking', 'Stroke', 'DiffWalking', 'Sex', 'AgeCategory', 'Race', 'Diabetic', 'PhysicalActivity', 'GenHealth', 'Asthma', 'KidneyDisease', 'SkinCancer']\n"
     ]
    }
   ],
   "source": [
    "categorical_cols = df.select_dtypes(include='object')\n",
    "print('List of Categorical Features :', categorical_cols.columns.tolist())"
   ]
  },
  {
   "cell_type": "code",
   "execution_count": 14,
   "id": "0977b6c6",
   "metadata": {
    "scrolled": true
   },
   "outputs": [
    {
     "data": {
      "image/png": "[encoded data removed]",
      "text/plain": [
       "<Figure size 4000x2500 with 14 Axes>"
      ]
     },
     "metadata": {},
     "output_type": "display_data"
    }
   ],
   "source": [
    "i = 1\n",
    "plt.figure(figsize=(40,25))\n",
    "plt.title('The distribution of the target column \"Heart disease\" with respect to various categorical features')\n",
    "\n",
    "for col in categorical_cols:\n",
    "    plt.subplot(6,3,i)\n",
    "    sns.countplot(x=col, hue='HeartDisease', data=df)\n",
    "    i+=1"
   ]
  },
  {
   "cell_type": "markdown",
   "id": "52d1e919",
   "metadata": {},
   "source": [
    "### Observations\n",
    "- The majority class (No) constitutes approximately 90.96% of the cases, while the minority class (Yes) represents only about 9.04%.\n",
    "- Factors that lead to Heart Disease : Smoking, Alchoholism, low physical activity, poor general health.\n",
    "- People who have suffered a Stroke are less likely to develop Heart diseases\n",
    "- People with a Diffwalking symptom are more likely to have a heart disease\n",
    "- The number of Females in the data are more. Males are more likely to develop a heart disease\n",
    "- People with ages greater than 60 are more at risk of developing a heart disease\n",
    "- White people are more prone to heart disease\n",
    "- People with Diabetic, Asthma, Kidney Disease, Skin Cancer may develop a heart disease."
   ]
  },
  {
   "cell_type": "markdown",
   "id": "11af76b7",
   "metadata": {
    "id": "11af76b7"
   },
   "source": [
    "### 9. Check the unique categories in the column 'Diabetic'. Replace 'Yes (during pregnancy)' as 'Yes' and 'No, borderline diabetes' as 'No'."
   ]
  },
  {
   "cell_type": "code",
   "execution_count": 15,
   "id": "86fccebe",
   "metadata": {
    "id": "86fccebe"
   },
   "outputs": [
    {
     "name": "stdout",
     "output_type": "stream",
     "text": [
      "List of unique categories in \"Diabetic\" column : ['Yes', 'No', 'No, borderline diabetes', 'Yes (during pregnancy)']\n"
     ]
    }
   ],
   "source": [
    "print('List of unique categories in \"Diabetic\" column :', df['Diabetic'].unique().tolist())"
   ]
  },
  {
   "cell_type": "code",
   "execution_count": 16,
   "id": "e3c5ef5a",
   "metadata": {},
   "outputs": [],
   "source": [
    "df['Diabetic'] = df['Diabetic'].replace(\n",
    "    {'Yes (during pregnancy)':'Yes',\n",
    "    'No, borderline diabetes':'No'} )"
   ]
  },
  {
   "cell_type": "code",
   "execution_count": 17,
   "id": "aa256436",
   "metadata": {},
   "outputs": [
    {
     "name": "stdout",
     "output_type": "stream",
     "text": [
      "List of unique categories in \"Diabetic\" column after replacement: ['Yes', 'No']\n"
     ]
    }
   ],
   "source": [
    "print('List of unique categories in \"Diabetic\" column after replacement:', df['Diabetic'].unique().tolist())"
   ]
  },
  {
   "cell_type": "markdown",
   "id": "e204cd08",
   "metadata": {
    "id": "e204cd08"
   },
   "source": [
    "### 10. For the target column 'HeartDiease', Replace 'No' as 0 and 'Yes' as 1. "
   ]
  },
  {
   "cell_type": "code",
   "execution_count": 18,
   "id": "22190734",
   "metadata": {
    "id": "22190734"
   },
   "outputs": [
    {
     "name": "stdout",
     "output_type": "stream",
     "text": [
      "List of unique categories in \"HeartDisease\" column : ['No', 'Yes']\n",
      "List of unique categories in \"HeartDisease\" column after replacement: [0, 1]\n"
     ]
    }
   ],
   "source": [
    "print('List of unique categories in \"HeartDisease\" column :', df['HeartDisease'].unique().tolist())\n",
    "df['HeartDisease'] = df['HeartDisease'].replace({'Yes':1, 'No':0})\n",
    "print('List of unique categories in \"HeartDisease\" column after replacement:', df['HeartDisease'].unique().tolist())"
   ]
  },
  {
   "cell_type": "markdown",
   "id": "7cdb58cd",
   "metadata": {
    "id": "7cdb58cd"
   },
   "source": [
    "### 11. Label Encode the columns \"AgeCategory\", \"Race\", and \"GenHealth\". Encode the rest of the columns using dummy encoding approach."
   ]
  },
  {
   "cell_type": "code",
   "execution_count": 19,
   "id": "707747be",
   "metadata": {
    "id": "707747be"
   },
   "outputs": [
    {
     "data": {
      "text/plain": [
       "['AgeCategory', 'Race', 'GenHealth']"
      ]
     },
     "execution_count": 19,
     "metadata": {},
     "output_type": "execute_result"
    }
   ],
   "source": [
    "# retreive the columns\n",
    "object_type_var = [i for i in df[[\"AgeCategory\", \"Race\",\"GenHealth\"]] if df.dtypes[i]==object]\n",
    "object_type_var"
   ]
  },
  {
   "cell_type": "code",
   "execution_count": 20,
   "id": "2d4303f8",
   "metadata": {},
   "outputs": [],
   "source": [
    "le  = LabelEncoder()\n",
    "\n",
    "# defining a function to encode the columns\n",
    "def encoder(df):\n",
    "    for i in object_type_var:\n",
    "        conv = le.fit_transform(df[i].astype(str))\n",
    "        df[i] = conv\n",
    "        df[i] = df[i].astype(int)"
   ]
  },
  {
   "cell_type": "code",
   "execution_count": 21,
   "id": "d7a85c98",
   "metadata": {},
   "outputs": [],
   "source": [
    "# call the function\n",
    "encoder(df)"
   ]
  },
  {
   "cell_type": "code",
   "execution_count": 22,
   "id": "60c73283",
   "metadata": {},
   "outputs": [],
   "source": [
    "# dummy encoding the rest of the columns\n",
    "df = pd.get_dummies(df, drop_first=True)"
   ]
  },
  {
   "cell_type": "code",
   "execution_count": 23,
   "id": "2d60550f",
   "metadata": {},
   "outputs": [
    {
     "data": {
      "text/html": [
       "<div>\n",
       "<style scoped>\n",
       "    .dataframe tbody tr th:only-of-type {\n",
       "        vertical-align: middle;\n",
       "    }\n",
       "\n",
       "    .dataframe tbody tr th {\n",
       "        vertical-align: top;\n",
       "    }\n",
       "\n",
       "    .dataframe thead th {\n",
       "        text-align: right;\n",
       "    }\n",
       "</style>\n",
       "<table border=\"1\" class=\"dataframe\">\n",
       "  <thead>\n",
       "    <tr style=\"text-align: right;\">\n",
       "      <th></th>\n",
       "      <th>HeartDisease</th>\n",
       "      <th>BMI</th>\n",
       "      <th>PhysicalHealth</th>\n",
       "      <th>MentalHealth</th>\n",
       "      <th>AgeCategory</th>\n",
       "      <th>Race</th>\n",
       "      <th>GenHealth</th>\n",
       "      <th>SleepTime</th>\n",
       "      <th>Smoking_Yes</th>\n",
       "      <th>AlcoholDrinking_Yes</th>\n",
       "      <th>Stroke_Yes</th>\n",
       "      <th>DiffWalking_Yes</th>\n",
       "      <th>Sex_Male</th>\n",
       "      <th>Diabetic_Yes</th>\n",
       "      <th>PhysicalActivity_Yes</th>\n",
       "      <th>Asthma_Yes</th>\n",
       "      <th>KidneyDisease_Yes</th>\n",
       "      <th>SkinCancer_Yes</th>\n",
       "    </tr>\n",
       "  </thead>\n",
       "  <tbody>\n",
       "    <tr>\n",
       "      <th>68534</th>\n",
       "      <td>0</td>\n",
       "      <td>30.72</td>\n",
       "      <td>0.0</td>\n",
       "      <td>0.0</td>\n",
       "      <td>0</td>\n",
       "      <td>5</td>\n",
       "      <td>0</td>\n",
       "      <td>7.0</td>\n",
       "      <td>False</td>\n",
       "      <td>False</td>\n",
       "      <td>False</td>\n",
       "      <td>False</td>\n",
       "      <td>False</td>\n",
       "      <td>False</td>\n",
       "      <td>True</td>\n",
       "      <td>False</td>\n",
       "      <td>False</td>\n",
       "      <td>False</td>\n",
       "    </tr>\n",
       "    <tr>\n",
       "      <th>59508</th>\n",
       "      <td>0</td>\n",
       "      <td>27.12</td>\n",
       "      <td>0.0</td>\n",
       "      <td>0.0</td>\n",
       "      <td>6</td>\n",
       "      <td>5</td>\n",
       "      <td>0</td>\n",
       "      <td>6.0</td>\n",
       "      <td>True</td>\n",
       "      <td>False</td>\n",
       "      <td>False</td>\n",
       "      <td>False</td>\n",
       "      <td>True</td>\n",
       "      <td>False</td>\n",
       "      <td>True</td>\n",
       "      <td>False</td>\n",
       "      <td>False</td>\n",
       "      <td>False</td>\n",
       "    </tr>\n",
       "    <tr>\n",
       "      <th>143563</th>\n",
       "      <td>0</td>\n",
       "      <td>24.41</td>\n",
       "      <td>10.0</td>\n",
       "      <td>3.0</td>\n",
       "      <td>12</td>\n",
       "      <td>5</td>\n",
       "      <td>1</td>\n",
       "      <td>7.0</td>\n",
       "      <td>False</td>\n",
       "      <td>False</td>\n",
       "      <td>False</td>\n",
       "      <td>True</td>\n",
       "      <td>False</td>\n",
       "      <td>True</td>\n",
       "      <td>True</td>\n",
       "      <td>False</td>\n",
       "      <td>False</td>\n",
       "      <td>False</td>\n",
       "    </tr>\n",
       "    <tr>\n",
       "      <th>54004</th>\n",
       "      <td>1</td>\n",
       "      <td>29.95</td>\n",
       "      <td>0.0</td>\n",
       "      <td>0.0</td>\n",
       "      <td>6</td>\n",
       "      <td>3</td>\n",
       "      <td>1</td>\n",
       "      <td>7.0</td>\n",
       "      <td>True</td>\n",
       "      <td>False</td>\n",
       "      <td>False</td>\n",
       "      <td>False</td>\n",
       "      <td>False</td>\n",
       "      <td>False</td>\n",
       "      <td>False</td>\n",
       "      <td>False</td>\n",
       "      <td>False</td>\n",
       "      <td>False</td>\n",
       "    </tr>\n",
       "    <tr>\n",
       "      <th>10850</th>\n",
       "      <td>0</td>\n",
       "      <td>29.05</td>\n",
       "      <td>0.0</td>\n",
       "      <td>0.0</td>\n",
       "      <td>9</td>\n",
       "      <td>5</td>\n",
       "      <td>0</td>\n",
       "      <td>6.0</td>\n",
       "      <td>True</td>\n",
       "      <td>False</td>\n",
       "      <td>False</td>\n",
       "      <td>False</td>\n",
       "      <td>False</td>\n",
       "      <td>False</td>\n",
       "      <td>True</td>\n",
       "      <td>False</td>\n",
       "      <td>False</td>\n",
       "      <td>False</td>\n",
       "    </tr>\n",
       "  </tbody>\n",
       "</table>\n",
       "</div>"
      ],
      "text/plain": [
       "        HeartDisease    BMI  PhysicalHealth  MentalHealth  AgeCategory  Race  \\\n",
       "68534              0  30.72             0.0           0.0            0     5   \n",
       "59508              0  27.12             0.0           0.0            6     5   \n",
       "143563             0  24.41            10.0           3.0           12     5   \n",
       "54004              1  29.95             0.0           0.0            6     3   \n",
       "10850              0  29.05             0.0           0.0            9     5   \n",
       "\n",
       "        GenHealth  SleepTime  Smoking_Yes  AlcoholDrinking_Yes  Stroke_Yes  \\\n",
       "68534           0        7.0        False                False       False   \n",
       "59508           0        6.0         True                False       False   \n",
       "143563          1        7.0        False                False       False   \n",
       "54004           1        7.0         True                False       False   \n",
       "10850           0        6.0         True                False       False   \n",
       "\n",
       "        DiffWalking_Yes  Sex_Male  Diabetic_Yes  PhysicalActivity_Yes  \\\n",
       "68534             False     False         False                  True   \n",
       "59508             False      True         False                  True   \n",
       "143563             True     False          True                  True   \n",
       "54004             False     False         False                 False   \n",
       "10850             False     False         False                  True   \n",
       "\n",
       "        Asthma_Yes  KidneyDisease_Yes  SkinCancer_Yes  \n",
       "68534        False              False           False  \n",
       "59508        False              False           False  \n",
       "143563       False              False           False  \n",
       "54004        False              False           False  \n",
       "10850        False              False           False  "
      ]
     },
     "execution_count": 23,
     "metadata": {},
     "output_type": "execute_result"
    }
   ],
   "source": [
    "df.sample(5)"
   ]
  },
  {
   "cell_type": "markdown",
   "id": "ddb3a715",
   "metadata": {
    "id": "ddb3a715"
   },
   "source": [
    "### 12. Store the target column (i.e.'HeartDisease') in the y variable and the rest of the columns in the X variable."
   ]
  },
  {
   "cell_type": "markdown",
   "id": "99d0814d",
   "metadata": {
    "id": "9628128c"
   },
   "source": [
    "### Model building process "
   ]
  },
  {
   "cell_type": "code",
   "execution_count": 24,
   "id": "9628128c",
   "metadata": {
    "id": "9628128c"
   },
   "outputs": [],
   "source": [
    "# Seperate the independent and target variables \n",
    "X = df.drop('HeartDisease',axis =1)\n",
    "y = df['HeartDisease']"
   ]
  },
  {
   "cell_type": "markdown",
   "id": "68db6b1e",
   "metadata": {
    "id": "68db6b1e"
   },
   "source": [
    "### 13. Split the dataset into two parts (i.e. 70% train and 30% test) and print the shape of the train and test data"
   ]
  },
  {
   "cell_type": "code",
   "execution_count": 25,
   "id": "0077d21b",
   "metadata": {
    "id": "0077d21b"
   },
   "outputs": [
    {
     "name": "stdout",
     "output_type": "stream",
     "text": [
      "Shape of training data :\n",
      " X_train, y_train => (241373, 17) ,  (241373,)\n",
      "Shape of testing data :\n",
      " X_test, y_test => (60344, 17) ,  (60344,)\n"
     ]
    }
   ],
   "source": [
    "## Split the data\n",
    "X_train, X_test, y_train, y_test = train_test_split(X,y, test_size = 0.2)\n",
    "print('Shape of training data :\\n','X_train, y_train =>',X_train.shape,', ',y_train.shape)\n",
    "print('Shape of testing data :\\n','X_test, y_test =>',X_test.shape,', ',y_test.shape)"
   ]
  },
  {
   "cell_type": "markdown",
   "id": "495ea012",
   "metadata": {
    "id": "495ea012"
   },
   "source": [
    "### 14. Standardize the numerical columns using Standard Scalar approach for both train and test data."
   ]
  },
  {
   "cell_type": "code",
   "execution_count": 26,
   "id": "19357a7b",
   "metadata": {
    "id": "19357a7b"
   },
   "outputs": [],
   "source": [
    "# Intitializing standardization library\n",
    "ss = StandardScaler()\n",
    "\n",
    "# transforming independant numerical columns in train and test data\n",
    "X_train.iloc[:,:7] = ss.fit_transform(X_train.iloc[:,:7])\n",
    "X_test.iloc[:,:7] = ss.fit_transform(X_test.iloc[:,:7])"
   ]
  },
  {
   "cell_type": "code",
   "execution_count": 27,
   "id": "e45207e8",
   "metadata": {},
   "outputs": [
    {
     "data": {
      "text/html": [
       "<div>\n",
       "<style scoped>\n",
       "    .dataframe tbody tr th:only-of-type {\n",
       "        vertical-align: middle;\n",
       "    }\n",
       "\n",
       "    .dataframe tbody tr th {\n",
       "        vertical-align: top;\n",
       "    }\n",
       "\n",
       "    .dataframe thead th {\n",
       "        text-align: right;\n",
       "    }\n",
       "</style>\n",
       "<table border=\"1\" class=\"dataframe\">\n",
       "  <thead>\n",
       "    <tr style=\"text-align: right;\">\n",
       "      <th></th>\n",
       "      <th>BMI</th>\n",
       "      <th>PhysicalHealth</th>\n",
       "      <th>MentalHealth</th>\n",
       "      <th>AgeCategory</th>\n",
       "      <th>Race</th>\n",
       "      <th>GenHealth</th>\n",
       "      <th>SleepTime</th>\n",
       "      <th>Smoking_Yes</th>\n",
       "      <th>AlcoholDrinking_Yes</th>\n",
       "      <th>Stroke_Yes</th>\n",
       "      <th>DiffWalking_Yes</th>\n",
       "      <th>Sex_Male</th>\n",
       "      <th>Diabetic_Yes</th>\n",
       "      <th>PhysicalActivity_Yes</th>\n",
       "      <th>Asthma_Yes</th>\n",
       "      <th>KidneyDisease_Yes</th>\n",
       "      <th>SkinCancer_Yes</th>\n",
       "    </tr>\n",
       "  </thead>\n",
       "  <tbody>\n",
       "    <tr>\n",
       "      <th>276866</th>\n",
       "      <td>0.373848</td>\n",
       "      <td>-0.438201</td>\n",
       "      <td>-0.506389</td>\n",
       "      <td>-0.981290</td>\n",
       "      <td>-1.108876</td>\n",
       "      <td>-1.469431</td>\n",
       "      <td>0.623077</td>\n",
       "      <td>False</td>\n",
       "      <td>False</td>\n",
       "      <td>False</td>\n",
       "      <td>False</td>\n",
       "      <td>True</td>\n",
       "      <td>False</td>\n",
       "      <td>True</td>\n",
       "      <td>False</td>\n",
       "      <td>False</td>\n",
       "      <td>False</td>\n",
       "    </tr>\n",
       "    <tr>\n",
       "      <th>5112</th>\n",
       "      <td>1.340311</td>\n",
       "      <td>-0.069422</td>\n",
       "      <td>1.342538</td>\n",
       "      <td>-0.702269</td>\n",
       "      <td>-0.298070</td>\n",
       "      <td>-0.807825</td>\n",
       "      <td>-0.740027</td>\n",
       "      <td>False</td>\n",
       "      <td>False</td>\n",
       "      <td>False</td>\n",
       "      <td>False</td>\n",
       "      <td>False</td>\n",
       "      <td>False</td>\n",
       "      <td>False</td>\n",
       "      <td>False</td>\n",
       "      <td>False</td>\n",
       "      <td>False</td>\n",
       "    </tr>\n",
       "    <tr>\n",
       "      <th>268125</th>\n",
       "      <td>-0.018922</td>\n",
       "      <td>-0.315274</td>\n",
       "      <td>-0.383127</td>\n",
       "      <td>0.971853</td>\n",
       "      <td>0.512736</td>\n",
       "      <td>1.176993</td>\n",
       "      <td>0.623077</td>\n",
       "      <td>True</td>\n",
       "      <td>True</td>\n",
       "      <td>False</td>\n",
       "      <td>False</td>\n",
       "      <td>True</td>\n",
       "      <td>False</td>\n",
       "      <td>True</td>\n",
       "      <td>False</td>\n",
       "      <td>False</td>\n",
       "      <td>True</td>\n",
       "    </tr>\n",
       "    <tr>\n",
       "      <th>137726</th>\n",
       "      <td>0.483639</td>\n",
       "      <td>-0.438201</td>\n",
       "      <td>-0.506389</td>\n",
       "      <td>1.529894</td>\n",
       "      <td>0.512736</td>\n",
       "      <td>-0.146219</td>\n",
       "      <td>3.349284</td>\n",
       "      <td>True</td>\n",
       "      <td>False</td>\n",
       "      <td>False</td>\n",
       "      <td>False</td>\n",
       "      <td>True</td>\n",
       "      <td>False</td>\n",
       "      <td>True</td>\n",
       "      <td>False</td>\n",
       "      <td>False</td>\n",
       "      <td>False</td>\n",
       "    </tr>\n",
       "    <tr>\n",
       "      <th>264611</th>\n",
       "      <td>-0.229225</td>\n",
       "      <td>-0.438201</td>\n",
       "      <td>-0.383127</td>\n",
       "      <td>-1.818351</td>\n",
       "      <td>0.512736</td>\n",
       "      <td>1.176993</td>\n",
       "      <td>-0.058475</td>\n",
       "      <td>False</td>\n",
       "      <td>False</td>\n",
       "      <td>False</td>\n",
       "      <td>False</td>\n",
       "      <td>True</td>\n",
       "      <td>False</td>\n",
       "      <td>False</td>\n",
       "      <td>False</td>\n",
       "      <td>False</td>\n",
       "      <td>False</td>\n",
       "    </tr>\n",
       "  </tbody>\n",
       "</table>\n",
       "</div>"
      ],
      "text/plain": [
       "             BMI  PhysicalHealth  MentalHealth  AgeCategory      Race  \\\n",
       "276866  0.373848       -0.438201     -0.506389    -0.981290 -1.108876   \n",
       "5112    1.340311       -0.069422      1.342538    -0.702269 -0.298070   \n",
       "268125 -0.018922       -0.315274     -0.383127     0.971853  0.512736   \n",
       "137726  0.483639       -0.438201     -0.506389     1.529894  0.512736   \n",
       "264611 -0.229225       -0.438201     -0.383127    -1.818351  0.512736   \n",
       "\n",
       "        GenHealth  SleepTime  Smoking_Yes  AlcoholDrinking_Yes  Stroke_Yes  \\\n",
       "276866  -1.469431   0.623077        False                False       False   \n",
       "5112    -0.807825  -0.740027        False                False       False   \n",
       "268125   1.176993   0.623077         True                 True       False   \n",
       "137726  -0.146219   3.349284         True                False       False   \n",
       "264611   1.176993  -0.058475        False                False       False   \n",
       "\n",
       "        DiffWalking_Yes  Sex_Male  Diabetic_Yes  PhysicalActivity_Yes  \\\n",
       "276866            False      True         False                  True   \n",
       "5112              False     False         False                 False   \n",
       "268125            False      True         False                  True   \n",
       "137726            False      True         False                  True   \n",
       "264611            False      True         False                 False   \n",
       "\n",
       "        Asthma_Yes  KidneyDisease_Yes  SkinCancer_Yes  \n",
       "276866       False              False           False  \n",
       "5112         False              False           False  \n",
       "268125       False              False            True  \n",
       "137726       False              False           False  \n",
       "264611       False              False           False  "
      ]
     },
     "execution_count": 27,
     "metadata": {},
     "output_type": "execute_result"
    }
   ],
   "source": [
    "# sample standardized training data\n",
    "X_train.sample(5)"
   ]
  },
  {
   "cell_type": "code",
   "execution_count": 28,
   "id": "ad526ed0",
   "metadata": {},
   "outputs": [
    {
     "data": {
      "text/html": [
       "<div>\n",
       "<style scoped>\n",
       "    .dataframe tbody tr th:only-of-type {\n",
       "        vertical-align: middle;\n",
       "    }\n",
       "\n",
       "    .dataframe tbody tr th {\n",
       "        vertical-align: top;\n",
       "    }\n",
       "\n",
       "    .dataframe thead th {\n",
       "        text-align: right;\n",
       "    }\n",
       "</style>\n",
       "<table border=\"1\" class=\"dataframe\">\n",
       "  <thead>\n",
       "    <tr style=\"text-align: right;\">\n",
       "      <th></th>\n",
       "      <th>BMI</th>\n",
       "      <th>PhysicalHealth</th>\n",
       "      <th>MentalHealth</th>\n",
       "      <th>AgeCategory</th>\n",
       "      <th>Race</th>\n",
       "      <th>GenHealth</th>\n",
       "      <th>SleepTime</th>\n",
       "      <th>Smoking_Yes</th>\n",
       "      <th>AlcoholDrinking_Yes</th>\n",
       "      <th>Stroke_Yes</th>\n",
       "      <th>DiffWalking_Yes</th>\n",
       "      <th>Sex_Male</th>\n",
       "      <th>Diabetic_Yes</th>\n",
       "      <th>PhysicalActivity_Yes</th>\n",
       "      <th>Asthma_Yes</th>\n",
       "      <th>KidneyDisease_Yes</th>\n",
       "      <th>SkinCancer_Yes</th>\n",
       "    </tr>\n",
       "  </thead>\n",
       "  <tbody>\n",
       "    <tr>\n",
       "      <th>210913</th>\n",
       "      <td>-0.279678</td>\n",
       "      <td>0.171192</td>\n",
       "      <td>-0.509720</td>\n",
       "      <td>0.145155</td>\n",
       "      <td>-1.891869</td>\n",
       "      <td>-1.470004</td>\n",
       "      <td>0.627556</td>\n",
       "      <td>False</td>\n",
       "      <td>True</td>\n",
       "      <td>False</td>\n",
       "      <td>False</td>\n",
       "      <td>False</td>\n",
       "      <td>False</td>\n",
       "      <td>True</td>\n",
       "      <td>False</td>\n",
       "      <td>False</td>\n",
       "      <td>False</td>\n",
       "    </tr>\n",
       "    <tr>\n",
       "      <th>15517</th>\n",
       "      <td>-1.152521</td>\n",
       "      <td>-0.196308</td>\n",
       "      <td>-0.509720</td>\n",
       "      <td>1.539273</td>\n",
       "      <td>0.516564</td>\n",
       "      <td>0.514646</td>\n",
       "      <td>0.627556</td>\n",
       "      <td>False</td>\n",
       "      <td>False</td>\n",
       "      <td>True</td>\n",
       "      <td>True</td>\n",
       "      <td>True</td>\n",
       "      <td>False</td>\n",
       "      <td>False</td>\n",
       "      <td>False</td>\n",
       "      <td>True</td>\n",
       "      <td>False</td>\n",
       "    </tr>\n",
       "    <tr>\n",
       "      <th>276259</th>\n",
       "      <td>-0.403266</td>\n",
       "      <td>0.048692</td>\n",
       "      <td>1.321866</td>\n",
       "      <td>-1.806610</td>\n",
       "      <td>0.516564</td>\n",
       "      <td>1.176196</td>\n",
       "      <td>0.627556</td>\n",
       "      <td>False</td>\n",
       "      <td>False</td>\n",
       "      <td>False</td>\n",
       "      <td>False</td>\n",
       "      <td>True</td>\n",
       "      <td>False</td>\n",
       "      <td>True</td>\n",
       "      <td>False</td>\n",
       "      <td>False</td>\n",
       "      <td>False</td>\n",
       "    </tr>\n",
       "    <tr>\n",
       "      <th>106086</th>\n",
       "      <td>0.511289</td>\n",
       "      <td>-0.441308</td>\n",
       "      <td>-0.509720</td>\n",
       "      <td>0.423979</td>\n",
       "      <td>0.516564</td>\n",
       "      <td>-0.146904</td>\n",
       "      <td>-0.054281</td>\n",
       "      <td>False</td>\n",
       "      <td>False</td>\n",
       "      <td>False</td>\n",
       "      <td>False</td>\n",
       "      <td>True</td>\n",
       "      <td>False</td>\n",
       "      <td>True</td>\n",
       "      <td>True</td>\n",
       "      <td>False</td>\n",
       "      <td>True</td>\n",
       "    </tr>\n",
       "    <tr>\n",
       "      <th>183915</th>\n",
       "      <td>-0.307485</td>\n",
       "      <td>3.233693</td>\n",
       "      <td>-0.509720</td>\n",
       "      <td>0.145155</td>\n",
       "      <td>0.516564</td>\n",
       "      <td>-0.808454</td>\n",
       "      <td>4.718577</td>\n",
       "      <td>True</td>\n",
       "      <td>False</td>\n",
       "      <td>False</td>\n",
       "      <td>True</td>\n",
       "      <td>True</td>\n",
       "      <td>True</td>\n",
       "      <td>False</td>\n",
       "      <td>False</td>\n",
       "      <td>False</td>\n",
       "      <td>False</td>\n",
       "    </tr>\n",
       "  </tbody>\n",
       "</table>\n",
       "</div>"
      ],
      "text/plain": [
       "             BMI  PhysicalHealth  MentalHealth  AgeCategory      Race  \\\n",
       "210913 -0.279678        0.171192     -0.509720     0.145155 -1.891869   \n",
       "15517  -1.152521       -0.196308     -0.509720     1.539273  0.516564   \n",
       "276259 -0.403266        0.048692      1.321866    -1.806610  0.516564   \n",
       "106086  0.511289       -0.441308     -0.509720     0.423979  0.516564   \n",
       "183915 -0.307485        3.233693     -0.509720     0.145155  0.516564   \n",
       "\n",
       "        GenHealth  SleepTime  Smoking_Yes  AlcoholDrinking_Yes  Stroke_Yes  \\\n",
       "210913  -1.470004   0.627556        False                 True       False   \n",
       "15517    0.514646   0.627556        False                False        True   \n",
       "276259   1.176196   0.627556        False                False       False   \n",
       "106086  -0.146904  -0.054281        False                False       False   \n",
       "183915  -0.808454   4.718577         True                False       False   \n",
       "\n",
       "        DiffWalking_Yes  Sex_Male  Diabetic_Yes  PhysicalActivity_Yes  \\\n",
       "210913            False     False         False                  True   \n",
       "15517              True      True         False                 False   \n",
       "276259            False      True         False                  True   \n",
       "106086            False      True         False                  True   \n",
       "183915             True      True          True                 False   \n",
       "\n",
       "        Asthma_Yes  KidneyDisease_Yes  SkinCancer_Yes  \n",
       "210913       False              False           False  \n",
       "15517        False               True           False  \n",
       "276259       False              False           False  \n",
       "106086        True              False            True  \n",
       "183915       False              False           False  "
      ]
     },
     "execution_count": 28,
     "metadata": {},
     "output_type": "execute_result"
    }
   ],
   "source": [
    "# sample standardized testing data\n",
    "X_test.sample(5)"
   ]
  },
  {
   "cell_type": "markdown",
   "id": "84d0e4a4",
   "metadata": {
    "id": "84d0e4a4"
   },
   "source": [
    "### 15. Write a function.\n",
    "- i) Which can take the model and data as inputs.\n",
    "- ii) Fits the model with the train data.\n",
    "- iii) Makes predictions on the test set.\n",
    "- iv) Returns the Accuracy Score."
   ]
  },
  {
   "cell_type": "code",
   "execution_count": 29,
   "id": "e02c8c82",
   "metadata": {
    "id": "e02c8c82"
   },
   "outputs": [],
   "source": [
    "# defining a function to train the model, make predictions and return the accuracy score\n",
    "def model_accuracy(model, X_train, y_train, X_test, y_test):\n",
    "    # Fit the model with the train data\n",
    "    model.fit(X_train, y_train)\n",
    "    \n",
    "    # Make predictions on the test set\n",
    "    y_pred = model.predict(X_test)\n",
    "    \n",
    "    # Return the accuracy score\n",
    "    return accuracy_score(y_test, y_pred)"
   ]
  },
  {
   "cell_type": "markdown",
   "id": "e709b9d4",
   "metadata": {
    "id": "e709b9d4"
   },
   "source": [
    "### 16. Use the function and train a Logistic regression, KNN, Naive Bayes, Decision tree, Random Forest, Adaboost, GradientBoost, and Stacked Classifier models and make predictions on test data and evaluate the models, compare and write your conclusions and steps to be taken in future in order to improve the accuracy of the model."
   ]
  },
  {
   "cell_type": "code",
   "execution_count": 30,
   "id": "a63e0e03",
   "metadata": {
    "id": "a63e0e03"
   },
   "outputs": [],
   "source": [
    "# loading all models required\n",
    "\n",
    "log_reg_model = LogisticRegression()\n",
    "\n",
    "knn_model= KNeighborsClassifier()\n",
    "\n",
    "naive_bayes_model = GaussianNB()\n",
    "\n",
    "dec_tree_model = DecisionTreeClassifier()\n",
    "\n",
    "rand_forest_model =  RandomForestClassifier()\n",
    "\n",
    "adaboost_model = AdaBoostClassifier()\n",
    "\n",
    "gradboost_model = GradientBoostingClassifier()"
   ]
  },
  {
   "cell_type": "code",
   "execution_count": 31,
   "id": "9850d625",
   "metadata": {},
   "outputs": [
    {
     "name": "stdout",
     "output_type": "stream",
     "text": [
      "Accuracy of Logistic Rgression Model :  0.909485615802731\n"
     ]
    }
   ],
   "source": [
    "# training the data for the logistic regression model and getting the accuracy score on the prediction\n",
    "log_reg_accuracy = model_accuracy(log_reg_model, X_train, y_train, X_test, y_test)\n",
    "print('Accuracy of Logistic Rgression Model : ',log_reg_accuracy)"
   ]
  },
  {
   "cell_type": "code",
   "execution_count": 32,
   "id": "66718a1f",
   "metadata": {},
   "outputs": [
    {
     "name": "stdout",
     "output_type": "stream",
     "text": [
      "Accuracy of K Nearest Neighbours Model :  0.900338061779133\n"
     ]
    }
   ],
   "source": [
    "# training the data for the K nearest neighbours model and getting the accuracy score on the prediction\n",
    "knn_accuracy = model_accuracy(knn_model, X_train, y_train, X_test, y_test)\n",
    "print('Accuracy of K Nearest Neighbours Model : ',knn_accuracy)"
   ]
  },
  {
   "cell_type": "code",
   "execution_count": 33,
   "id": "3dcf6bde",
   "metadata": {},
   "outputs": [
    {
     "name": "stdout",
     "output_type": "stream",
     "text": [
      "Accuracy of naive bayes Model :  0.8413761103009413\n"
     ]
    }
   ],
   "source": [
    "# training the data for the Naive Bayes model and getting the accuracy score on the prediction\n",
    "nb_accuracy = model_accuracy(naive_bayes_model, X_train, y_train, X_test, y_test)\n",
    "print('Accuracy of naive bayes Model : ',nb_accuracy)"
   ]
  },
  {
   "cell_type": "code",
   "execution_count": 34,
   "id": "be6acae8",
   "metadata": {},
   "outputs": [
    {
     "name": "stdout",
     "output_type": "stream",
     "text": [
      "Accuracy of decision tree Model :  0.8555448760440143\n"
     ]
    }
   ],
   "source": [
    "# training the data for the decision tree model and getting the accuracy score on the prediction\n",
    "dct_accuracy = model_accuracy(dec_tree_model, X_train, y_train, X_test, y_test)\n",
    "print('Accuracy of decision tree Model : ',dct_accuracy)"
   ]
  },
  {
   "cell_type": "code",
   "execution_count": 35,
   "id": "819b68db",
   "metadata": {},
   "outputs": [
    {
     "name": "stdout",
     "output_type": "stream",
     "text": [
      "Accuracy of random forest Model :  0.8979351716823545\n"
     ]
    }
   ],
   "source": [
    "# training the data for the Random forest model and getting the accuracy score on the prediction\n",
    "rf_accuracy = model_accuracy(rand_forest_model, X_train, y_train, X_test, y_test)\n",
    "print('Accuracy of random forest Model : ',rf_accuracy)"
   ]
  },
  {
   "cell_type": "code",
   "execution_count": 36,
   "id": "db9f862c",
   "metadata": {},
   "outputs": [
    {
     "name": "stdout",
     "output_type": "stream",
     "text": [
      "Accuracy of adaboost classifier Model :  0.9101981970038446\n"
     ]
    }
   ],
   "source": [
    "# training the data for the Adaboost classifier model and getting the accuracy score on the prediction\n",
    "adb_accuracy = model_accuracy(adaboost_model, X_train, y_train, X_test, y_test)\n",
    "print('Accuracy of adaboost classifier Model : ',adb_accuracy)"
   ]
  },
  {
   "cell_type": "code",
   "execution_count": 37,
   "id": "ecee60c3",
   "metadata": {},
   "outputs": [
    {
     "name": "stdout",
     "output_type": "stream",
     "text": [
      "Accuracy of gradient boost classifier Model :  0.9101650536921649\n"
     ]
    }
   ],
   "source": [
    "# training the data for the Gradientboost classifier model and getting the accuracy score on the prediction\n",
    "gdb_accuracy = model_accuracy(gradboost_model, X_train, y_train, X_test, y_test)\n",
    "print('Accuracy of gradient boost classifier Model : ',gdb_accuracy)"
   ]
  },
  {
   "cell_type": "code",
   "execution_count": 38,
   "id": "de64b54d",
   "metadata": {},
   "outputs": [
    {
     "name": "stdout",
     "output_type": "stream",
     "text": [
      "Stacking Classifier accuracy:  0.9098501922312078\n"
     ]
    }
   ],
   "source": [
    "# Creating a Stacking Classifier by combining various base models\n",
    "stacking_classifier_model = StackingClassifier(estimators=[\n",
    "    ('logreg', log_reg_model),\n",
    "    ('knn', knn_model),\n",
    "    ('naive bayes', naive_bayes_model),\n",
    "    ('decision tree', dec_tree_model),\n",
    "    ('random forest', rand_forest_model),\n",
    "    ('Adaboost model', adaboost_model),\n",
    "    ('Gradient boost', gradboost_model)\n",
    "], final_estimator = LogisticRegression())\n",
    "\n",
    "stacking_classifier_model.fit(X_train, y_train)\n",
    "\n",
    "stacking_classifier_prediction = stacking_classifier_model.predict(X_test)\n",
    "\n",
    "print('Stacking Classifier accuracy: ', accuracy_score(y_test, stacking_classifier_prediction))"
   ]
  },
  {
   "cell_type": "markdown",
   "id": "K5f-IKPLV3bN",
   "metadata": {
    "id": "K5f-IKPLV3bN"
   },
   "source": [
    "### Conclusion"
   ]
  },
  {
   "cell_type": "markdown",
   "id": "befd9326",
   "metadata": {
    "id": "e18c82e0"
   },
   "source": [
    "#### Model Comparison\n",
    "- The accuracy scores for various models are as follows:\n",
    "    - Logistic Regression: 90.95%\n",
    "    - K Nearest Neighbors (KNN): 90.03%\n",
    "    - Naive Bayes: 84.14%\n",
    "    - Decision Tree: 85.55%\n",
    "    - Random Forest: 89.79%\n",
    "    - Adaboost Classifier: 91.02%\n",
    "    - Gradient Boost Classifier: 91.02%\n",
    "    - Stacking Classifier: 90.99%\n",
    "    \n",
    "#### Observations:\n",
    "- Adaboost and Gradient Boost classifiers perform exceptionally well, closely followed by the Stacking Classifier. Logistic Regression also has a good accuracy score. \n",
    "- Naive Bayes has the lowest accuracy, indicating that it may not be suitable for this dataset.\n",
    "\n",
    "#### Next Steps for Improvement:\n",
    "- Feature Engineering:\n",
    "    - Explore additional features or create new ones based on domain knowledge.\n",
    "    - Consider interactions, transformations, and aggregations of existing features.\n",
    "- Hyperparameter Tuning:\n",
    "    - Fine-tune hyperparameters for each model.\n",
    "    - Use techniques like grid search or random search to find optimal parameter values.\n",
    "    - Ensemble Techniques:\n",
    "    - Experiment with different ensemble methods (e.g., bagging, boosting, stacking).\n",
    "    - Combine models to improve overall performance.\n",
    "- Address Class Imbalance:\n",
    "    - Since the dataset is imbalanced (majority class dominates), consider techniques like oversampling, - undersampling, or using synthetic data.\n",
    "- Collect More Data:\n",
    "    - If feasible, gather additional data to enhance model generalization.\n",
    "- Evaluate Other Algorithms:\n",
    "    - Try other algorithms (e.g., SVM, neural networks) to see if they perform better.\n",
    "- Cross-Validation:\n",
    "    - Use k-fold cross-validation to assess model stability and reduce overfitting.\n",
    "- Domain-Specific Insights:\n",
    "    - Consult domain experts to gain insights into relevant features and potential improvements."
   ]
  },
  {
   "cell_type": "markdown",
   "id": "515596d0",
   "metadata": {
    "id": "515596d0"
   },
   "source": [
    "----\n",
    "## Happy Learning:)\n",
    "----"
   ]
  }
 ],
 "metadata": {
  "colab": {
   "collapsed_sections": [],
   "name": "Supervised Learning - Lab Session .ipynb",
   "provenance": []
  },
  "kernelspec": {
   "display_name": "Python 3 (ipykernel)",
   "language": "python",
   "name": "python3"
  },
  "language_info": {
   "codemirror_mode": {
    "name": "ipython",
    "version": 3
   },
   "file_extension": ".py",
   "mimetype": "text/x-python",
   "name": "python",
   "nbconvert_exporter": "python",
   "pygments_lexer": "ipython3",
   "version": "3.11.5"
  }
 },
 "nbformat": 4,
 "nbformat_minor": 5
}
